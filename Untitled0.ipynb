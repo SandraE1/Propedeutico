{
  "nbformat": 4,
  "nbformat_minor": 0,
  "metadata": {
    "colab": {
      "name": "Untitled0.ipynb",
      "provenance": [],
      "authorship_tag": "ABX9TyNKK82W+fYO25IAiCuoHRJD",
      "include_colab_link": true
    },
    "kernelspec": {
      "name": "python3",
      "display_name": "Python 3"
    },
    "language_info": {
      "name": "python"
    }
  },
  "cells": [
    {
      "cell_type": "markdown",
      "metadata": {
        "id": "view-in-github",
        "colab_type": "text"
      },
      "source": [
        "<a href=\"https://colab.research.google.com/github/SandraE1/Propedeutico/blob/main/Untitled0.ipynb\" target=\"_parent\"><img src=\"https://colab.research.google.com/assets/colab-badge.svg\" alt=\"Open In Colab\"/></a>"
      ]
    },
    {
      "cell_type": "code",
      "execution_count": 32,
      "metadata": {
        "colab": {
          "base_uri": "https://localhost:8080/",
          "height": 235
        },
        "id": "WoDXARMkHVsp",
        "outputId": "6bb548f2-5670-4184-e205-aa21afe75b7d"
      },
      "outputs": [
        {
          "output_type": "error",
          "ename": "TypeError",
          "evalue": "ignored",
          "traceback": [
            "\u001b[0;31m---------------------------------------------------------------------------\u001b[0m",
            "\u001b[0;31mTypeError\u001b[0m                                 Traceback (most recent call last)",
            "\u001b[0;32m<ipython-input-32-243342cf4fa9>\u001b[0m in \u001b[0;36m<module>\u001b[0;34m()\u001b[0m\n\u001b[1;32m     15\u001b[0m \u001b[0;34m\u001b[0m\u001b[0m\n\u001b[1;32m     16\u001b[0m \u001b[0;32mfor\u001b[0m \u001b[0mm\u001b[0m \u001b[0;32min\u001b[0m \u001b[0mlist\u001b[0m\u001b[0;34m(\u001b[0m\u001b[0mrange\u001b[0m\u001b[0;34m(\u001b[0m\u001b[0;34m-\u001b[0m\u001b[0;36m16\u001b[0m\u001b[0;34m,\u001b[0m\u001b[0;36m0\u001b[0m\u001b[0;34m,\u001b[0m\u001b[0;36m1\u001b[0m\u001b[0;34m)\u001b[0m\u001b[0;34m)\u001b[0m\u001b[0;34m:\u001b[0m\u001b[0;34m\u001b[0m\u001b[0;34m\u001b[0m\u001b[0m\n\u001b[0;32m---> 17\u001b[0;31m    \u001b[0mh\u001b[0m\u001b[0;34m[\u001b[0m\u001b[0mm\u001b[0m\u001b[0;34m+\u001b[0m\u001b[0;36m15\u001b[0m\u001b[0;34m]\u001b[0m\u001b[0;34m=\u001b[0m\u001b[0;36m10\u001b[0m\u001b[0;34m**\u001b[0m\u001b[0mm\u001b[0m\u001b[0;34m\u001b[0m\u001b[0;34m\u001b[0m\u001b[0m\n\u001b[0m\u001b[1;32m     18\u001b[0m \u001b[0mprint\u001b[0m\u001b[0;34m(\u001b[0m\u001b[0mh\u001b[0m\u001b[0;34m)\u001b[0m\u001b[0;34m\u001b[0m\u001b[0;34m\u001b[0m\u001b[0m\n\u001b[1;32m     19\u001b[0m \u001b[0;34m\u001b[0m\u001b[0m\n",
            "\u001b[0;31mTypeError\u001b[0m: 'itertools.repeat' object does not support item assignment"
          ]
        }
      ],
      "source": [
        "#Tarea semana 3\n",
        "#Sandra Espana\n",
        "\n",
        "import numpy as np\n",
        "import scipy as sp\n",
        "import matplotlib as mp\n",
        "import sympy\n",
        "import math\n",
        "\n",
        "#1. Realizar una gráfica de log(error relativo) vs log(h) (h en eje horizontal)\n",
        "# para aproximar la segunda derivada de  f(x)=e^-x en x=1, con \n",
        "# h={10^-16,10^-1...10^-1}. Valor a aproximar f(2)(1)=e^-. Usar d2(fX)/dx^2}\n",
        "\n",
        "y= lambda x: exp(-x)\n",
        "\n",
        "for m in list(range(-16,0,1)):\n",
        "   h[m+15]=10**m\n",
        "print(h)\n",
        "\n",
        "\n",
        "target= lambda x: -exp(-x)\n",
        "error_relativo=math.log(abs(aprox-target)/target)\n",
        "mp.plot(h,error_relativo)\n",
        "mp.title('error relativo vs h')\n",
        "mp.show()\n",
        "\n",
        "#!!!!para commit: in this section I mostly used the notes provided by professor Erick\n",
        "#Palacios. Furthermore, user's guides for scipy and numpy were also reviewed, as well as stackoverflow\n",
        "\n",
        "#2. Crear un módulo con nombre central_finite_derivative.py en el que se tengan \n",
        "# dos funciones de Python que aproximen la primera y la segunda derivada de una \n",
        "#función en un punto x. Ambas funciones reciben fun, x y h donde fun es la \n",
        "#función a clacularse para su primera y segunda derivadas, x es el punto donde \n",
        "#se realiza la aproximación y h es el parámetro de espaciado entre x y x+h igual\n",
        "# a h=10^-16. La salida de cada función es un float. Función de prueba:\n",
        "# math.atan y x=0.9\n",
        "\n",
        "#3. mismo ejercicio que n punto 2 con función de prueba math.asin y x=0.5\n",
        "\n",
        "#4. En un módulo con nombre numerical integration.py aproximar el valor de la \n",
        "#integral  \\int sin(x)dx=2 de [0,pi] con regla compuesta del trapecio con n=10^4 \n",
        "#subintervalos\n",
        "\n",
        "#5. Aproximar la integral de \\int e^-t^2/2dt con la cuadratura Gauss Legendre\n",
        "\n",
        "#6. Aproximar las integrales xxxxx"
      ]
    },
    {
      "cell_type": "code",
      "source": [
        "h[0]=10**-16"
      ],
      "metadata": {
        "colab": {
          "base_uri": "https://localhost:8080/",
          "height": 165
        },
        "id": "A46aVGoVUNg0",
        "outputId": "e8eabb86-2aab-4931-a151-d37c4d60ac96"
      },
      "execution_count": 33,
      "outputs": [
        {
          "output_type": "error",
          "ename": "TypeError",
          "evalue": "ignored",
          "traceback": [
            "\u001b[0;31m---------------------------------------------------------------------------\u001b[0m",
            "\u001b[0;31mTypeError\u001b[0m                                 Traceback (most recent call last)",
            "\u001b[0;32m<ipython-input-33-b550f7c8105e>\u001b[0m in \u001b[0;36m<module>\u001b[0;34m()\u001b[0m\n\u001b[0;32m----> 1\u001b[0;31m \u001b[0mh\u001b[0m\u001b[0;34m[\u001b[0m\u001b[0;36m0\u001b[0m\u001b[0;34m]\u001b[0m\u001b[0;34m=\u001b[0m\u001b[0;36m10\u001b[0m\u001b[0;34m**\u001b[0m\u001b[0;34m-\u001b[0m\u001b[0;36m16\u001b[0m\u001b[0;34m\u001b[0m\u001b[0;34m\u001b[0m\u001b[0m\n\u001b[0m",
            "\u001b[0;31mTypeError\u001b[0m: 'itertools.repeat' object does not support item assignment"
          ]
        }
      ]
    },
    {
      "cell_type": "code",
      "source": [
        ""
      ],
      "metadata": {
        "id": "z-6Iby1wUdyh"
      },
      "execution_count": null,
      "outputs": []
    }
  ]
}